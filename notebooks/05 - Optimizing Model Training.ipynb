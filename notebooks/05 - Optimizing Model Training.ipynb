{
 "cells": [
  {
   "cell_type": "markdown",
   "metadata": {},
   "source": [
    "# Exercise 4 - Optimizing Model Training\n",
    "\n",
    "In [the previous exercise](./03%20-%20Compute%20Contexts.ipynb), you created cloud-based compute and used it when running a model training experiment. The benefit of cloud compute is that it offers a cost-effective way to scale out your experiment workflow and try different algorithms and parameters in order to optimize your model's performance; and that's what we'll explore in this exercise.\n",
    "\n",
    "> **Important**: This exercise assumes you have completed the previous exercises in this series - specifically, you must have:\n",
    ">\n",
    "> - Created an Azure ML Workspace.\n",
    "> - Uploaded the diabetes.csv data file to the workspace's default datastore.\n",
    "> - Registered a **Diabetes Dataset** dataset in the workspace.\n",
    "> - Provisioned an Azure ML Compute resource named **cpu-cluster**.\n",
    ">\n",
    "> If you haven't done that, now would be a good time - nobody's going to do it for you!\n",
    "\n",
    "## Task 1: Connect to Your Workspace\n",
    "\n",
    "The first thing you need to do is to connect to your workspace using the Azure ML SDK. Let's start by ensuring you still have the latest version installed (if you ended and restarted your Azure Notebooks session, the environment may have been reset)"
   ]
  },
  {
   "cell_type": "code",
   "execution_count": 1,
   "metadata": {},
   "outputs": [
    {
     "name": "stdout",
     "output_type": "stream",
     "text": [
      "Requirement already up-to-date: azureml-sdk[automl,explain,notebooks] in /anaconda/envs/azureml_py36/lib/python3.6/site-packages (1.0.65)\n",
      "Requirement already satisfied, skipping upgrade: azureml-dataprep[fuse]<1.2.0a,>=1.1.19a in /anaconda/envs/azureml_py36/lib/python3.6/site-packages (from azureml-sdk[automl,explain,notebooks]) (1.1.19)\n",
      "Requirement already satisfied, skipping upgrade: azureml-core==1.0.65.* in /anaconda/envs/azureml_py36/lib/python3.6/site-packages (from azureml-sdk[automl,explain,notebooks]) (1.0.65)\n",
      "Requirement already satisfied, skipping upgrade: azureml-train==1.0.65.* in /anaconda/envs/azureml_py36/lib/python3.6/site-packages (from azureml-sdk[automl,explain,notebooks]) (1.0.65)\n",
      "Requirement already satisfied, skipping upgrade: azureml-pipeline==1.0.65.* in /anaconda/envs/azureml_py36/lib/python3.6/site-packages (from azureml-sdk[automl,explain,notebooks]) (1.0.65)\n",
      "Requirement already satisfied, skipping upgrade: azureml-train-automl==1.0.65.*; extra == \"automl\" in /anaconda/envs/azureml_py36/lib/python3.6/site-packages (from azureml-sdk[automl,explain,notebooks]) (1.0.65)\n",
      "Requirement already satisfied, skipping upgrade: azureml-explain-model==1.0.65.*; extra == \"explain\" in /anaconda/envs/azureml_py36/lib/python3.6/site-packages (from azureml-sdk[automl,explain,notebooks]) (1.0.65)\n",
      "Requirement already satisfied, skipping upgrade: azureml-widgets==1.0.65.*; extra == \"notebooks\" in /anaconda/envs/azureml_py36/lib/python3.6/site-packages (from azureml-sdk[automl,explain,notebooks]) (1.0.65)\n",
      "Requirement already satisfied, skipping upgrade: azureml-contrib-notebook==1.0.65.*; extra == \"notebooks\" in /anaconda/envs/azureml_py36/lib/python3.6/site-packages (from azureml-sdk[automl,explain,notebooks]) (1.0.65)\n",
      "Requirement already satisfied, skipping upgrade: dotnetcore2>=2.1.9 in /anaconda/envs/azureml_py36/lib/python3.6/site-packages (from azureml-dataprep[fuse]<1.2.0a,>=1.1.19a->azureml-sdk[automl,explain,notebooks]) (2.1.9)\n",
      "Requirement already satisfied, skipping upgrade: azureml-dataprep-native<14.0.0,>=13.0.3 in /anaconda/envs/azureml_py36/lib/python3.6/site-packages (from azureml-dataprep[fuse]<1.2.0a,>=1.1.19a->azureml-sdk[automl,explain,notebooks]) (13.0.3)\n",
      "Requirement already satisfied, skipping upgrade: cloudpickle>=1.1.0 in /anaconda/envs/azureml_py36/lib/python3.6/site-packages (from azureml-dataprep[fuse]<1.2.0a,>=1.1.19a->azureml-sdk[automl,explain,notebooks]) (1.2.2)\n",
      "Requirement already satisfied, skipping upgrade: fusepy>=3.0.1; extra == \"fuse\" in /anaconda/envs/azureml_py36/lib/python3.6/site-packages (from azureml-dataprep[fuse]<1.2.0a,>=1.1.19a->azureml-sdk[automl,explain,notebooks]) (3.0.1)\n",
      "Requirement already satisfied, skipping upgrade: urllib3>=1.23 in /anaconda/envs/azureml_py36/lib/python3.6/site-packages (from azureml-core==1.0.65.*->azureml-sdk[automl,explain,notebooks]) (1.25.6)\n",
      "Requirement already satisfied, skipping upgrade: pytz in /anaconda/envs/azureml_py36/lib/python3.6/site-packages (from azureml-core==1.0.65.*->azureml-sdk[automl,explain,notebooks]) (2017.2)\n",
      "Requirement already satisfied, skipping upgrade: jmespath in /anaconda/envs/azureml_py36/lib/python3.6/site-packages (from azureml-core==1.0.65.*->azureml-sdk[automl,explain,notebooks]) (0.9.4)\n",
      "Requirement already satisfied, skipping upgrade: azure-mgmt-containerregistry>=2.0.0 in /anaconda/envs/azureml_py36/lib/python3.6/site-packages (from azureml-core==1.0.65.*->azureml-sdk[automl,explain,notebooks]) (2.8.0)\n",
      "Requirement already satisfied, skipping upgrade: requests>=2.19.1 in /anaconda/envs/azureml_py36/lib/python3.6/site-packages (from azureml-core==1.0.65.*->azureml-sdk[automl,explain,notebooks]) (2.22.0)\n",
      "Requirement already satisfied, skipping upgrade: azure-common>=1.1.12 in /anaconda/envs/azureml_py36/lib/python3.6/site-packages (from azureml-core==1.0.65.*->azureml-sdk[automl,explain,notebooks]) (1.1.23)\n",
      "Requirement already satisfied, skipping upgrade: pyopenssl in /anaconda/envs/azureml_py36/lib/python3.6/site-packages (from azureml-core==1.0.65.*->azureml-sdk[automl,explain,notebooks]) (17.2.0)\n",
      "Requirement already satisfied, skipping upgrade: ruamel.yaml<=0.15.89,>=0.15.35 in /anaconda/envs/azureml_py36/lib/python3.6/site-packages (from azureml-core==1.0.65.*->azureml-sdk[automl,explain,notebooks]) (0.15.89)\n",
      "Requirement already satisfied, skipping upgrade: jsonpickle in /anaconda/envs/azureml_py36/lib/python3.6/site-packages (from azureml-core==1.0.65.*->azureml-sdk[automl,explain,notebooks]) (1.2)\n",
      "Requirement already satisfied, skipping upgrade: python-dateutil>=2.7.3 in /anaconda/envs/azureml_py36/lib/python3.6/site-packages (from azureml-core==1.0.65.*->azureml-sdk[automl,explain,notebooks]) (2.8.0)\n",
      "Requirement already satisfied, skipping upgrade: azure-graphrbac>=0.40.0 in /anaconda/envs/azureml_py36/lib/python3.6/site-packages (from azureml-core==1.0.65.*->azureml-sdk[automl,explain,notebooks]) (0.61.1)\n",
      "Requirement already satisfied, skipping upgrade: azure-mgmt-storage>=1.5.0 in /anaconda/envs/azureml_py36/lib/python3.6/site-packages (from azureml-core==1.0.65.*->azureml-sdk[automl,explain,notebooks]) (4.1.0)\n",
      "Requirement already satisfied, skipping upgrade: msrestazure>=0.4.33 in /anaconda/envs/azureml_py36/lib/python3.6/site-packages (from azureml-core==1.0.65.*->azureml-sdk[automl,explain,notebooks]) (0.6.2)\n",
      "Requirement already satisfied, skipping upgrade: msrest>=0.5.1 in /anaconda/envs/azureml_py36/lib/python3.6/site-packages (from azureml-core==1.0.65.*->azureml-sdk[automl,explain,notebooks]) (0.6.10)\n",
      "Requirement already satisfied, skipping upgrade: azure-mgmt-resource>=1.2.1 in /anaconda/envs/azureml_py36/lib/python3.6/site-packages (from azureml-core==1.0.65.*->azureml-sdk[automl,explain,notebooks]) (5.0.0)\n",
      "Requirement already satisfied, skipping upgrade: ndg-httpsclient in /anaconda/envs/azureml_py36/lib/python3.6/site-packages (from azureml-core==1.0.65.*->azureml-sdk[automl,explain,notebooks]) (0.5.1)\n",
      "Requirement already satisfied, skipping upgrade: SecretStorage in /anaconda/envs/azureml_py36/lib/python3.6/site-packages (from azureml-core==1.0.65.*->azureml-sdk[automl,explain,notebooks]) (3.1.1)\n",
      "Requirement already satisfied, skipping upgrade: adal>=1.2.0 in /anaconda/envs/azureml_py36/lib/python3.6/site-packages (from azureml-core==1.0.65.*->azureml-sdk[automl,explain,notebooks]) (1.2.2)\n",
      "Requirement already satisfied, skipping upgrade: cryptography!=1.9,!=2.0.*,!=2.1.*,!=2.2.* in /anaconda/envs/azureml_py36/lib/python3.6/site-packages (from azureml-core==1.0.65.*->azureml-sdk[automl,explain,notebooks]) (2.7)\n",
      "Requirement already satisfied, skipping upgrade: backports.tempfile in /anaconda/envs/azureml_py36/lib/python3.6/site-packages (from azureml-core==1.0.65.*->azureml-sdk[automl,explain,notebooks]) (1.0)\n",
      "Requirement already satisfied, skipping upgrade: pathspec in /anaconda/envs/azureml_py36/lib/python3.6/site-packages (from azureml-core==1.0.65.*->azureml-sdk[automl,explain,notebooks]) (0.5.9)\n",
      "Requirement already satisfied, skipping upgrade: docker in /anaconda/envs/azureml_py36/lib/python3.6/site-packages (from azureml-core==1.0.65.*->azureml-sdk[automl,explain,notebooks]) (4.0.2)\n",
      "Requirement already satisfied, skipping upgrade: azure-mgmt-keyvault>=0.40.0 in /anaconda/envs/azureml_py36/lib/python3.6/site-packages (from azureml-core==1.0.65.*->azureml-sdk[automl,explain,notebooks]) (2.0.0)\n",
      "Requirement already satisfied, skipping upgrade: azure-mgmt-authorization>=0.40.0 in /anaconda/envs/azureml_py36/lib/python3.6/site-packages (from azureml-core==1.0.65.*->azureml-sdk[automl,explain,notebooks]) (0.60.0)\n",
      "Requirement already satisfied, skipping upgrade: six>=1.11.0 in /anaconda/envs/azureml_py36/lib/python3.6/site-packages (from azureml-core==1.0.65.*->azureml-sdk[automl,explain,notebooks]) (1.12.0)\n",
      "Requirement already satisfied, skipping upgrade: contextlib2 in /anaconda/envs/azureml_py36/lib/python3.6/site-packages (from azureml-core==1.0.65.*->azureml-sdk[automl,explain,notebooks]) (0.5.5)\n",
      "Requirement already satisfied, skipping upgrade: PyJWT in /anaconda/envs/azureml_py36/lib/python3.6/site-packages (from azureml-core==1.0.65.*->azureml-sdk[automl,explain,notebooks]) (1.7.1)\n",
      "Requirement already satisfied, skipping upgrade: azureml-train-core==1.0.65.* in /anaconda/envs/azureml_py36/lib/python3.6/site-packages (from azureml-train==1.0.65.*->azureml-sdk[automl,explain,notebooks]) (1.0.65)\n",
      "Requirement already satisfied, skipping upgrade: azureml-pipeline-steps==1.0.65.* in /anaconda/envs/azureml_py36/lib/python3.6/site-packages (from azureml-pipeline==1.0.65.*->azureml-sdk[automl,explain,notebooks]) (1.0.65)\n",
      "Requirement already satisfied, skipping upgrade: azureml-pipeline-core==1.0.65.* in /anaconda/envs/azureml_py36/lib/python3.6/site-packages (from azureml-pipeline==1.0.65.*->azureml-sdk[automl,explain,notebooks]) (1.0.65)\n",
      "Requirement already satisfied, skipping upgrade: patsy>=0.5.1 in /anaconda/envs/azureml_py36/lib/python3.6/site-packages (from azureml-train-automl==1.0.65.*; extra == \"automl\"->azureml-sdk[automl,explain,notebooks]) (0.5.1)\n",
      "Requirement already satisfied, skipping upgrade: onnxconverter-common>=1.4.2 in /anaconda/envs/azureml_py36/lib/python3.6/site-packages (from azureml-train-automl==1.0.65.*; extra == \"automl\"->azureml-sdk[automl,explain,notebooks]) (1.5.4)\n",
      "Requirement already satisfied, skipping upgrade: azureml-automl-core==1.0.65.* in /anaconda/envs/azureml_py36/lib/python3.6/site-packages (from azureml-train-automl==1.0.65.*; extra == \"automl\"->azureml-sdk[automl,explain,notebooks]) (1.0.65)\n",
      "Requirement already satisfied, skipping upgrade: onnxmltools==1.4.1 in /anaconda/envs/azureml_py36/lib/python3.6/site-packages (from azureml-train-automl==1.0.65.*; extra == \"automl\"->azureml-sdk[automl,explain,notebooks]) (1.4.1)\n",
      "Requirement already satisfied, skipping upgrade: resource>=0.1.8 in /anaconda/envs/azureml_py36/lib/python3.6/site-packages (from azureml-train-automl==1.0.65.*; extra == \"automl\"->azureml-sdk[automl,explain,notebooks]) (0.2.1)\n",
      "Requirement already satisfied, skipping upgrade: pandas<=0.23.4,>=0.21.0 in /anaconda/envs/azureml_py36/lib/python3.6/site-packages (from azureml-train-automl==1.0.65.*; extra == \"automl\"->azureml-sdk[automl,explain,notebooks]) (0.23.4)\n",
      "Requirement already satisfied, skipping upgrade: dill>=0.2.8 in /anaconda/envs/azureml_py36/lib/python3.6/site-packages (from azureml-train-automl==1.0.65.*; extra == \"automl\"->azureml-sdk[automl,explain,notebooks]) (0.3.1.1)\n",
      "Requirement already satisfied, skipping upgrade: statsmodels>=0.9.0 in /anaconda/envs/azureml_py36/lib/python3.6/site-packages (from azureml-train-automl==1.0.65.*; extra == \"automl\"->azureml-sdk[automl,explain,notebooks]) (0.10.1)\n",
      "Requirement already satisfied, skipping upgrade: sklearn-pandas<=1.7.0,>=1.4.0 in /anaconda/envs/azureml_py36/lib/python3.6/site-packages (from azureml-train-automl==1.0.65.*; extra == \"automl\"->azureml-sdk[automl,explain,notebooks]) (1.7.0)\n",
      "Requirement already satisfied, skipping upgrade: scipy<=1.1.0,>=1.0.0 in /anaconda/envs/azureml_py36/lib/python3.6/site-packages (from azureml-train-automl==1.0.65.*; extra == \"automl\"->azureml-sdk[automl,explain,notebooks]) (1.1.0)\n",
      "Requirement already satisfied, skipping upgrade: lightgbm<=2.2.3,>=2.0.11 in /anaconda/envs/azureml_py36/lib/python3.6/site-packages (from azureml-train-automl==1.0.65.*; extra == \"automl\"->azureml-sdk[automl,explain,notebooks]) (2.2.3)\n",
      "Requirement already satisfied, skipping upgrade: gensim in /anaconda/envs/azureml_py36/lib/python3.6/site-packages (from azureml-train-automl==1.0.65.*; extra == \"automl\"->azureml-sdk[automl,explain,notebooks]) (3.8.1)\n",
      "Requirement already satisfied, skipping upgrade: skl2onnx==1.4.9 in /anaconda/envs/azureml_py36/lib/python3.6/site-packages (from azureml-train-automl==1.0.65.*; extra == \"automl\"->azureml-sdk[automl,explain,notebooks]) (1.4.9)\n",
      "Requirement already satisfied, skipping upgrade: numpy<=1.16.2,>=1.16.0 in /anaconda/envs/azureml_py36/lib/python3.6/site-packages (from azureml-train-automl==1.0.65.*; extra == \"automl\"->azureml-sdk[automl,explain,notebooks]) (1.16.2)\n",
      "Requirement already satisfied, skipping upgrade: onnx>=1.5.0 in /anaconda/envs/azureml_py36/lib/python3.6/site-packages (from azureml-train-automl==1.0.65.*; extra == \"automl\"->azureml-sdk[automl,explain,notebooks]) (1.6.0)\n",
      "Collecting wheel==0.30.0 (from azureml-train-automl==1.0.65.*; extra == \"automl\"->azureml-sdk[automl,explain,notebooks])\n",
      "\u001b[?25l  Downloading https://files.pythonhosted.org/packages/0c/80/16a85b47702a1f47a63c104c91abdd0a6704ee8ae3b4ce4afc49bc39f9d9/wheel-0.30.0-py2.py3-none-any.whl (49kB)\n",
      "\u001b[K     |████████████████████████████████| 51kB 4.9MB/s eta 0:00:011\n",
      "\u001b[?25hRequirement already satisfied, skipping upgrade: scikit-learn<=0.20.3,>=0.19.0 in /anaconda/envs/azureml_py36/lib/python3.6/site-packages (from azureml-train-automl==1.0.65.*; extra == \"automl\"->azureml-sdk[automl,explain,notebooks]) (0.20.3)\n",
      "Requirement already satisfied, skipping upgrade: azureml-telemetry==1.0.65.* in /anaconda/envs/azureml_py36/lib/python3.6/site-packages (from azureml-train-automl==1.0.65.*; extra == \"automl\"->azureml-sdk[automl,explain,notebooks]) (1.0.65)\n",
      "Requirement already satisfied, skipping upgrade: packaging in /anaconda/envs/azureml_py36/lib/python3.6/site-packages (from azureml-explain-model==1.0.65.*; extra == \"explain\"->azureml-sdk[automl,explain,notebooks]) (16.8)\n",
      "Requirement already satisfied, skipping upgrade: shap<=0.29.3,>=0.20.0 in /anaconda/envs/azureml_py36/lib/python3.6/site-packages (from azureml-explain-model==1.0.65.*; extra == \"explain\"->azureml-sdk[automl,explain,notebooks]) (0.29.3)\n",
      "Requirement already satisfied, skipping upgrade: ipywidgets>=7.0.0 in /anaconda/envs/azureml_py36/lib/python3.6/site-packages (from azureml-widgets==1.0.65.*; extra == \"notebooks\"->azureml-sdk[automl,explain,notebooks]) (7.0.0)\n",
      "Requirement already satisfied, skipping upgrade: ipython in /anaconda/envs/azureml_py36/lib/python3.6/site-packages (from azureml-contrib-notebook==1.0.65.*; extra == \"notebooks\"->azureml-sdk[automl,explain,notebooks]) (6.1.0)\n",
      "Requirement already satisfied, skipping upgrade: papermill in /anaconda/envs/azureml_py36/lib/python3.6/site-packages (from azureml-contrib-notebook==1.0.65.*; extra == \"notebooks\"->azureml-sdk[automl,explain,notebooks]) (1.2.0)\n",
      "Requirement already satisfied, skipping upgrade: ipykernel in /anaconda/envs/azureml_py36/lib/python3.6/site-packages (from azureml-contrib-notebook==1.0.65.*; extra == \"notebooks\"->azureml-sdk[automl,explain,notebooks]) (5.1.2)\n",
      "Requirement already satisfied, skipping upgrade: distro>=1.2.0 in /anaconda/envs/azureml_py36/lib/python3.6/site-packages (from dotnetcore2>=2.1.9->azureml-dataprep[fuse]<1.2.0a,>=1.1.19a->azureml-sdk[automl,explain,notebooks]) (1.4.0)\n",
      "Requirement already satisfied, skipping upgrade: certifi>=2017.4.17 in /anaconda/envs/azureml_py36/lib/python3.6/site-packages (from requests>=2.19.1->azureml-core==1.0.65.*->azureml-sdk[automl,explain,notebooks]) (2019.9.11)\n",
      "Requirement already satisfied, skipping upgrade: idna<2.9,>=2.5 in /anaconda/envs/azureml_py36/lib/python3.6/site-packages (from requests>=2.19.1->azureml-core==1.0.65.*->azureml-sdk[automl,explain,notebooks]) (2.8)\n",
      "Requirement already satisfied, skipping upgrade: chardet<3.1.0,>=3.0.2 in /anaconda/envs/azureml_py36/lib/python3.6/site-packages (from requests>=2.19.1->azureml-core==1.0.65.*->azureml-sdk[automl,explain,notebooks]) (3.0.4)\n",
      "Requirement already satisfied, skipping upgrade: isodate>=0.6.0 in /anaconda/envs/azureml_py36/lib/python3.6/site-packages (from msrest>=0.5.1->azureml-core==1.0.65.*->azureml-sdk[automl,explain,notebooks]) (0.6.0)\n",
      "Requirement already satisfied, skipping upgrade: requests-oauthlib>=0.5.0 in /anaconda/envs/azureml_py36/lib/python3.6/site-packages (from msrest>=0.5.1->azureml-core==1.0.65.*->azureml-sdk[automl,explain,notebooks]) (1.2.0)\n",
      "Requirement already satisfied, skipping upgrade: pyasn1>=0.1.1 in /anaconda/envs/azureml_py36/lib/python3.6/site-packages (from ndg-httpsclient->azureml-core==1.0.65.*->azureml-sdk[automl,explain,notebooks]) (0.4.7)\n",
      "Requirement already satisfied, skipping upgrade: jeepney in /anaconda/envs/azureml_py36/lib/python3.6/site-packages (from SecretStorage->azureml-core==1.0.65.*->azureml-sdk[automl,explain,notebooks]) (0.4.1)\n",
      "Requirement already satisfied, skipping upgrade: asn1crypto>=0.21.0 in /anaconda/envs/azureml_py36/lib/python3.6/site-packages (from cryptography!=1.9,!=2.0.*,!=2.1.*,!=2.2.*->azureml-core==1.0.65.*->azureml-sdk[automl,explain,notebooks]) (0.22.0)\n",
      "Requirement already satisfied, skipping upgrade: cffi!=1.11.3,>=1.8 in /anaconda/envs/azureml_py36/lib/python3.6/site-packages (from cryptography!=1.9,!=2.0.*,!=2.1.*,!=2.2.*->azureml-core==1.0.65.*->azureml-sdk[automl,explain,notebooks]) (1.10.0)\n",
      "Requirement already satisfied, skipping upgrade: backports.weakref in /anaconda/envs/azureml_py36/lib/python3.6/site-packages (from backports.tempfile->azureml-core==1.0.65.*->azureml-sdk[automl,explain,notebooks]) (1.0.post1)\n",
      "Requirement already satisfied, skipping upgrade: websocket-client>=0.32.0 in /anaconda/envs/azureml_py36/lib/python3.6/site-packages (from docker->azureml-core==1.0.65.*->azureml-sdk[automl,explain,notebooks]) (0.56.0)\n",
      "Requirement already satisfied, skipping upgrade: azureml-train-restclients-hyperdrive==1.0.65.* in /anaconda/envs/azureml_py36/lib/python3.6/site-packages (from azureml-train-core==1.0.65.*->azureml-train==1.0.65.*->azureml-sdk[automl,explain,notebooks]) (1.0.65)\n",
      "Requirement already satisfied, skipping upgrade: protobuf in /anaconda/envs/azureml_py36/lib/python3.6/site-packages (from onnxconverter-common>=1.4.2->azureml-train-automl==1.0.65.*; extra == \"automl\"->azureml-sdk[automl,explain,notebooks]) (3.9.2)\n",
      "Requirement already satisfied, skipping upgrade: nimbusml>=1.4.1 in /anaconda/envs/azureml_py36/lib/python3.6/site-packages (from azureml-automl-core==1.0.65.*->azureml-train-automl==1.0.65.*; extra == \"automl\"->azureml-sdk[automl,explain,notebooks]) (1.4.2)\n",
      "Requirement already satisfied, skipping upgrade: pmdarima==1.1.1 in /anaconda/envs/azureml_py36/lib/python3.6/site-packages (from azureml-automl-core==1.0.65.*->azureml-train-automl==1.0.65.*; extra == \"automl\"->azureml-sdk[automl,explain,notebooks]) (1.1.1)\n",
      "Requirement already satisfied, skipping upgrade: keras2onnx in /anaconda/envs/azureml_py36/lib/python3.6/site-packages (from onnxmltools==1.4.1->azureml-train-automl==1.0.65.*; extra == \"automl\"->azureml-sdk[automl,explain,notebooks]) (1.5.2)\n",
      "Requirement already satisfied, skipping upgrade: JsonSir>=0.0.2 in /anaconda/envs/azureml_py36/lib/python3.6/site-packages (from resource>=0.1.8->azureml-train-automl==1.0.65.*; extra == \"automl\"->azureml-sdk[automl,explain,notebooks]) (0.0.2)\n",
      "Requirement already satisfied, skipping upgrade: python-easyconfig>=0.1.0 in /anaconda/envs/azureml_py36/lib/python3.6/site-packages (from resource>=0.1.8->azureml-train-automl==1.0.65.*; extra == \"automl\"->azureml-sdk[automl,explain,notebooks]) (0.1.7)\n",
      "Requirement already satisfied, skipping upgrade: JsonForm>=0.0.2 in /anaconda/envs/azureml_py36/lib/python3.6/site-packages (from resource>=0.1.8->azureml-train-automl==1.0.65.*; extra == \"automl\"->azureml-sdk[automl,explain,notebooks]) (0.0.2)\n",
      "Requirement already satisfied, skipping upgrade: smart-open>=1.8.1 in /anaconda/envs/azureml_py36/lib/python3.6/site-packages (from gensim->azureml-train-automl==1.0.65.*; extra == \"automl\"->azureml-sdk[automl,explain,notebooks]) (1.8.4)\n",
      "Requirement already satisfied, skipping upgrade: typing-extensions>=3.6.2.1 in /anaconda/envs/azureml_py36/lib/python3.6/site-packages (from onnx>=1.5.0->azureml-train-automl==1.0.65.*; extra == \"automl\"->azureml-sdk[automl,explain,notebooks]) (3.7.4)\n",
      "Requirement already satisfied, skipping upgrade: applicationinsights in /anaconda/envs/azureml_py36/lib/python3.6/site-packages (from azureml-telemetry==1.0.65.*->azureml-train-automl==1.0.65.*; extra == \"automl\"->azureml-sdk[automl,explain,notebooks]) (0.11.9)\n",
      "Requirement already satisfied, skipping upgrade: pyparsing in /anaconda/envs/azureml_py36/lib/python3.6/site-packages (from packaging->azureml-explain-model==1.0.65.*; extra == \"explain\"->azureml-sdk[automl,explain,notebooks]) (2.4.2)\n",
      "Requirement already satisfied, skipping upgrade: scikit-image in /anaconda/envs/azureml_py36/lib/python3.6/site-packages (from shap<=0.29.3,>=0.20.0->azureml-explain-model==1.0.65.*; extra == \"explain\"->azureml-sdk[automl,explain,notebooks]) (0.15.0)\n",
      "Requirement already satisfied, skipping upgrade: tqdm>4.25.0 in /anaconda/envs/azureml_py36/lib/python3.6/site-packages (from shap<=0.29.3,>=0.20.0->azureml-explain-model==1.0.65.*; extra == \"explain\"->azureml-sdk[automl,explain,notebooks]) (4.36.1)\n",
      "Requirement already satisfied, skipping upgrade: matplotlib in /anaconda/envs/azureml_py36/lib/python3.6/site-packages (from shap<=0.29.3,>=0.20.0->azureml-explain-model==1.0.65.*; extra == \"explain\"->azureml-sdk[automl,explain,notebooks]) (3.1.1)\n",
      "Requirement already satisfied, skipping upgrade: traitlets>=4.3.1 in /anaconda/envs/azureml_py36/lib/python3.6/site-packages (from ipywidgets>=7.0.0->azureml-widgets==1.0.65.*; extra == \"notebooks\"->azureml-sdk[automl,explain,notebooks]) (4.3.2)\n",
      "Requirement already satisfied, skipping upgrade: nbformat>=4.2.0 in /anaconda/envs/azureml_py36/lib/python3.6/site-packages (from ipywidgets>=7.0.0->azureml-widgets==1.0.65.*; extra == \"notebooks\"->azureml-sdk[automl,explain,notebooks]) (4.4.0)\n",
      "Requirement already satisfied, skipping upgrade: widgetsnbextension~=3.0.0 in /anaconda/envs/azureml_py36/lib/python3.6/site-packages (from ipywidgets>=7.0.0->azureml-widgets==1.0.65.*; extra == \"notebooks\"->azureml-sdk[automl,explain,notebooks]) (3.0.2)\n",
      "Requirement already satisfied, skipping upgrade: setuptools>=18.5 in /anaconda/envs/azureml_py36/lib/python3.6/site-packages (from ipython->azureml-contrib-notebook==1.0.65.*; extra == \"notebooks\"->azureml-sdk[automl,explain,notebooks]) (41.2.0)\n",
      "Requirement already satisfied, skipping upgrade: jedi>=0.10 in /anaconda/envs/azureml_py36/lib/python3.6/site-packages (from ipython->azureml-contrib-notebook==1.0.65.*; extra == \"notebooks\"->azureml-sdk[automl,explain,notebooks]) (0.10.2)\n",
      "Requirement already satisfied, skipping upgrade: decorator in /anaconda/envs/azureml_py36/lib/python3.6/site-packages (from ipython->azureml-contrib-notebook==1.0.65.*; extra == \"notebooks\"->azureml-sdk[automl,explain,notebooks]) (4.4.0)\n",
      "Requirement already satisfied, skipping upgrade: pickleshare in /anaconda/envs/azureml_py36/lib/python3.6/site-packages (from ipython->azureml-contrib-notebook==1.0.65.*; extra == \"notebooks\"->azureml-sdk[automl,explain,notebooks]) (0.7.4)\n",
      "Requirement already satisfied, skipping upgrade: simplegeneric>0.8 in /anaconda/envs/azureml_py36/lib/python3.6/site-packages (from ipython->azureml-contrib-notebook==1.0.65.*; extra == \"notebooks\"->azureml-sdk[automl,explain,notebooks]) (0.8.1)\n",
      "Requirement already satisfied, skipping upgrade: prompt_toolkit<2.0.0,>=1.0.4 in /anaconda/envs/azureml_py36/lib/python3.6/site-packages (from ipython->azureml-contrib-notebook==1.0.65.*; extra == \"notebooks\"->azureml-sdk[automl,explain,notebooks]) (1.0.15)\n",
      "Requirement already satisfied, skipping upgrade: pygments in /anaconda/envs/azureml_py36/lib/python3.6/site-packages (from ipython->azureml-contrib-notebook==1.0.65.*; extra == \"notebooks\"->azureml-sdk[automl,explain,notebooks]) (2.2.0)\n",
      "Requirement already satisfied, skipping upgrade: pexpect in /anaconda/envs/azureml_py36/lib/python3.6/site-packages (from ipython->azureml-contrib-notebook==1.0.65.*; extra == \"notebooks\"->azureml-sdk[automl,explain,notebooks]) (4.2.1)\n",
      "Requirement already satisfied, skipping upgrade: entrypoints in /anaconda/envs/azureml_py36/lib/python3.6/site-packages (from papermill->azureml-contrib-notebook==1.0.65.*; extra == \"notebooks\"->azureml-sdk[automl,explain,notebooks]) (0.2.3)\n",
      "Requirement already satisfied, skipping upgrade: click in /anaconda/envs/azureml_py36/lib/python3.6/site-packages (from papermill->azureml-contrib-notebook==1.0.65.*; extra == \"notebooks\"->azureml-sdk[automl,explain,notebooks]) (7.0)\n",
      "Requirement already satisfied, skipping upgrade: pyyaml in /anaconda/envs/azureml_py36/lib/python3.6/site-packages (from papermill->azureml-contrib-notebook==1.0.65.*; extra == \"notebooks\"->azureml-sdk[automl,explain,notebooks]) (3.12)\n",
      "Requirement already satisfied, skipping upgrade: tenacity in /anaconda/envs/azureml_py36/lib/python3.6/site-packages (from papermill->azureml-contrib-notebook==1.0.65.*; extra == \"notebooks\"->azureml-sdk[automl,explain,notebooks]) (5.1.1)\n",
      "Requirement already satisfied, skipping upgrade: jupyter-client in /anaconda/envs/azureml_py36/lib/python3.6/site-packages (from papermill->azureml-contrib-notebook==1.0.65.*; extra == \"notebooks\"->azureml-sdk[automl,explain,notebooks]) (5.3.3)\n",
      "Requirement already satisfied, skipping upgrade: ansiwrap in /anaconda/envs/azureml_py36/lib/python3.6/site-packages (from papermill->azureml-contrib-notebook==1.0.65.*; extra == \"notebooks\"->azureml-sdk[automl,explain,notebooks]) (0.8.4)\n",
      "Requirement already satisfied, skipping upgrade: nbconvert>=5.5 in /anaconda/envs/azureml_py36/lib/python3.6/site-packages (from papermill->azureml-contrib-notebook==1.0.65.*; extra == \"notebooks\"->azureml-sdk[automl,explain,notebooks]) (5.6.0)\n",
      "Requirement already satisfied, skipping upgrade: future in /anaconda/envs/azureml_py36/lib/python3.6/site-packages (from papermill->azureml-contrib-notebook==1.0.65.*; extra == \"notebooks\"->azureml-sdk[automl,explain,notebooks]) (0.17.1)\n",
      "Requirement already satisfied, skipping upgrade: tornado>=4.2 in /anaconda/envs/azureml_py36/lib/python3.6/site-packages (from ipykernel->azureml-contrib-notebook==1.0.65.*; extra == \"notebooks\"->azureml-sdk[automl,explain,notebooks]) (6.0.3)\n",
      "Requirement already satisfied, skipping upgrade: oauthlib>=3.0.0 in /anaconda/envs/azureml_py36/lib/python3.6/site-packages (from requests-oauthlib>=0.5.0->msrest>=0.5.1->azureml-core==1.0.65.*->azureml-sdk[automl,explain,notebooks]) (3.1.0)\n",
      "Requirement already satisfied, skipping upgrade: pycparser in /anaconda/envs/azureml_py36/lib/python3.6/site-packages (from cffi!=1.11.3,>=1.8->cryptography!=1.9,!=2.0.*,!=2.1.*,!=2.2.*->azureml-core==1.0.65.*->azureml-sdk[automl,explain,notebooks]) (2.18)\n",
      "Requirement already satisfied, skipping upgrade: Cython>=0.29 in /anaconda/envs/azureml_py36/lib/python3.6/site-packages (from pmdarima==1.1.1->azureml-automl-core==1.0.65.*->azureml-train-automl==1.0.65.*; extra == \"automl\"->azureml-sdk[automl,explain,notebooks]) (0.29.13)\n",
      "Requirement already satisfied, skipping upgrade: fire in /anaconda/envs/azureml_py36/lib/python3.6/site-packages (from keras2onnx->onnxmltools==1.4.1->azureml-train-automl==1.0.65.*; extra == \"automl\"->azureml-sdk[automl,explain,notebooks]) (0.2.1)\n",
      "Requirement already satisfied, skipping upgrade: jsonschema in /anaconda/envs/azureml_py36/lib/python3.6/site-packages (from JsonForm>=0.0.2->resource>=0.1.8->azureml-train-automl==1.0.65.*; extra == \"automl\"->azureml-sdk[automl,explain,notebooks]) (2.6.0)\n",
      "Requirement already satisfied, skipping upgrade: boto3 in /anaconda/envs/azureml_py36/lib/python3.6/site-packages (from smart-open>=1.8.1->gensim->azureml-train-automl==1.0.65.*; extra == \"automl\"->azureml-sdk[automl,explain,notebooks]) (1.9.239)\n",
      "Requirement already satisfied, skipping upgrade: boto>=2.32 in /anaconda/envs/azureml_py36/lib/python3.6/site-packages (from smart-open>=1.8.1->gensim->azureml-train-automl==1.0.65.*; extra == \"automl\"->azureml-sdk[automl,explain,notebooks]) (2.48.0)\n",
      "Requirement already satisfied, skipping upgrade: networkx>=2.0 in /anaconda/envs/azureml_py36/lib/python3.6/site-packages (from scikit-image->shap<=0.29.3,>=0.20.0->azureml-explain-model==1.0.65.*; extra == \"explain\"->azureml-sdk[automl,explain,notebooks]) (2.3)\n",
      "Requirement already satisfied, skipping upgrade: imageio>=2.0.1 in /anaconda/envs/azureml_py36/lib/python3.6/site-packages (from scikit-image->shap<=0.29.3,>=0.20.0->azureml-explain-model==1.0.65.*; extra == \"explain\"->azureml-sdk[automl,explain,notebooks]) (2.5.0)\n",
      "Requirement already satisfied, skipping upgrade: pillow>=4.3.0 in /anaconda/envs/azureml_py36/lib/python3.6/site-packages (from scikit-image->shap<=0.29.3,>=0.20.0->azureml-explain-model==1.0.65.*; extra == \"explain\"->azureml-sdk[automl,explain,notebooks]) (6.1.0)\n",
      "Requirement already satisfied, skipping upgrade: PyWavelets>=0.4.0 in /anaconda/envs/azureml_py36/lib/python3.6/site-packages (from scikit-image->shap<=0.29.3,>=0.20.0->azureml-explain-model==1.0.65.*; extra == \"explain\"->azureml-sdk[automl,explain,notebooks]) (1.0.3)\n",
      "Requirement already satisfied, skipping upgrade: cycler>=0.10 in /anaconda/envs/azureml_py36/lib/python3.6/site-packages (from matplotlib->shap<=0.29.3,>=0.20.0->azureml-explain-model==1.0.65.*; extra == \"explain\"->azureml-sdk[automl,explain,notebooks]) (0.10.0)\n",
      "Requirement already satisfied, skipping upgrade: kiwisolver>=1.0.1 in /anaconda/envs/azureml_py36/lib/python3.6/site-packages (from matplotlib->shap<=0.29.3,>=0.20.0->azureml-explain-model==1.0.65.*; extra == \"explain\"->azureml-sdk[automl,explain,notebooks]) (1.1.0)\n",
      "Requirement already satisfied, skipping upgrade: ipython_genutils in /anaconda/envs/azureml_py36/lib/python3.6/site-packages (from traitlets>=4.3.1->ipywidgets>=7.0.0->azureml-widgets==1.0.65.*; extra == \"notebooks\"->azureml-sdk[automl,explain,notebooks]) (0.2.0)\n",
      "Requirement already satisfied, skipping upgrade: jupyter_core in /anaconda/envs/azureml_py36/lib/python3.6/site-packages (from nbformat>=4.2.0->ipywidgets>=7.0.0->azureml-widgets==1.0.65.*; extra == \"notebooks\"->azureml-sdk[automl,explain,notebooks]) (4.5.0)\n",
      "Requirement already satisfied, skipping upgrade: notebook>=4.4.1 in /anaconda/envs/azureml_py36/lib/python3.6/site-packages (from widgetsnbextension~=3.0.0->ipywidgets>=7.0.0->azureml-widgets==1.0.65.*; extra == \"notebooks\"->azureml-sdk[automl,explain,notebooks]) (6.0.0)\n",
      "Requirement already satisfied, skipping upgrade: wcwidth in /anaconda/envs/azureml_py36/lib/python3.6/site-packages (from prompt_toolkit<2.0.0,>=1.0.4->ipython->azureml-contrib-notebook==1.0.65.*; extra == \"notebooks\"->azureml-sdk[automl,explain,notebooks]) (0.1.7)\n",
      "Requirement already satisfied, skipping upgrade: pyzmq>=13 in /anaconda/envs/azureml_py36/lib/python3.6/site-packages (from jupyter-client->papermill->azureml-contrib-notebook==1.0.65.*; extra == \"notebooks\"->azureml-sdk[automl,explain,notebooks]) (18.1.0)\n",
      "Requirement already satisfied, skipping upgrade: textwrap3>=0.9.2 in /anaconda/envs/azureml_py36/lib/python3.6/site-packages (from ansiwrap->papermill->azureml-contrib-notebook==1.0.65.*; extra == \"notebooks\"->azureml-sdk[automl,explain,notebooks]) (0.9.2)\n",
      "Requirement already satisfied, skipping upgrade: defusedxml in /anaconda/envs/azureml_py36/lib/python3.6/site-packages (from nbconvert>=5.5->papermill->azureml-contrib-notebook==1.0.65.*; extra == \"notebooks\"->azureml-sdk[automl,explain,notebooks]) (0.6.0)\n",
      "Requirement already satisfied, skipping upgrade: bleach in /anaconda/envs/azureml_py36/lib/python3.6/site-packages (from nbconvert>=5.5->papermill->azureml-contrib-notebook==1.0.65.*; extra == \"notebooks\"->azureml-sdk[automl,explain,notebooks]) (2.0.0)\n",
      "Requirement already satisfied, skipping upgrade: pandocfilters>=1.4.1 in /anaconda/envs/azureml_py36/lib/python3.6/site-packages (from nbconvert>=5.5->papermill->azureml-contrib-notebook==1.0.65.*; extra == \"notebooks\"->azureml-sdk[automl,explain,notebooks]) (1.4.2)\n",
      "Requirement already satisfied, skipping upgrade: mistune<2,>=0.8.1 in /anaconda/envs/azureml_py36/lib/python3.6/site-packages (from nbconvert>=5.5->papermill->azureml-contrib-notebook==1.0.65.*; extra == \"notebooks\"->azureml-sdk[automl,explain,notebooks]) (0.8.4)\n",
      "Requirement already satisfied, skipping upgrade: testpath in /anaconda/envs/azureml_py36/lib/python3.6/site-packages (from nbconvert>=5.5->papermill->azureml-contrib-notebook==1.0.65.*; extra == \"notebooks\"->azureml-sdk[automl,explain,notebooks]) (0.3.1)\n",
      "Requirement already satisfied, skipping upgrade: jinja2>=2.4 in /anaconda/envs/azureml_py36/lib/python3.6/site-packages (from nbconvert>=5.5->papermill->azureml-contrib-notebook==1.0.65.*; extra == \"notebooks\"->azureml-sdk[automl,explain,notebooks]) (2.10.1)\n",
      "Requirement already satisfied, skipping upgrade: termcolor in /anaconda/envs/azureml_py36/lib/python3.6/site-packages (from fire->keras2onnx->onnxmltools==1.4.1->azureml-train-automl==1.0.65.*; extra == \"automl\"->azureml-sdk[automl,explain,notebooks]) (1.1.0)\n",
      "Requirement already satisfied, skipping upgrade: s3transfer<0.3.0,>=0.2.0 in /anaconda/envs/azureml_py36/lib/python3.6/site-packages (from boto3->smart-open>=1.8.1->gensim->azureml-train-automl==1.0.65.*; extra == \"automl\"->azureml-sdk[automl,explain,notebooks]) (0.2.1)\n",
      "Requirement already satisfied, skipping upgrade: botocore<1.13.0,>=1.12.239 in /anaconda/envs/azureml_py36/lib/python3.6/site-packages (from boto3->smart-open>=1.8.1->gensim->azureml-train-automl==1.0.65.*; extra == \"automl\"->azureml-sdk[automl,explain,notebooks]) (1.12.239)\n",
      "Requirement already satisfied, skipping upgrade: terminado>=0.8.1 in /anaconda/envs/azureml_py36/lib/python3.6/site-packages (from notebook>=4.4.1->widgetsnbextension~=3.0.0->ipywidgets>=7.0.0->azureml-widgets==1.0.65.*; extra == \"notebooks\"->azureml-sdk[automl,explain,notebooks]) (0.8.2)\n",
      "Requirement already satisfied, skipping upgrade: prometheus-client in /anaconda/envs/azureml_py36/lib/python3.6/site-packages (from notebook>=4.4.1->widgetsnbextension~=3.0.0->ipywidgets>=7.0.0->azureml-widgets==1.0.65.*; extra == \"notebooks\"->azureml-sdk[automl,explain,notebooks]) (0.7.1)\n",
      "Requirement already satisfied, skipping upgrade: Send2Trash in /anaconda/envs/azureml_py36/lib/python3.6/site-packages (from notebook>=4.4.1->widgetsnbextension~=3.0.0->ipywidgets>=7.0.0->azureml-widgets==1.0.65.*; extra == \"notebooks\"->azureml-sdk[automl,explain,notebooks]) (1.5.0)\n",
      "Requirement already satisfied, skipping upgrade: html5lib>=0.99999999 in /anaconda/envs/azureml_py36/lib/python3.6/site-packages (from bleach->nbconvert>=5.5->papermill->azureml-contrib-notebook==1.0.65.*; extra == \"notebooks\"->azureml-sdk[automl,explain,notebooks]) (0.999999999)\n",
      "Requirement already satisfied, skipping upgrade: MarkupSafe>=0.23 in /anaconda/envs/azureml_py36/lib/python3.6/site-packages (from jinja2>=2.4->nbconvert>=5.5->papermill->azureml-contrib-notebook==1.0.65.*; extra == \"notebooks\"->azureml-sdk[automl,explain,notebooks]) (1.0)\n",
      "Requirement already satisfied, skipping upgrade: docutils<0.16,>=0.10 in /anaconda/envs/azureml_py36/lib/python3.6/site-packages (from botocore<1.13.0,>=1.12.239->boto3->smart-open>=1.8.1->gensim->azureml-train-automl==1.0.65.*; extra == \"automl\"->azureml-sdk[automl,explain,notebooks]) (0.14)\n",
      "Requirement already satisfied, skipping upgrade: ptyprocess; os_name != \"nt\" in /anaconda/envs/azureml_py36/lib/python3.6/site-packages (from terminado>=0.8.1->notebook>=4.4.1->widgetsnbextension~=3.0.0->ipywidgets>=7.0.0->azureml-widgets==1.0.65.*; extra == \"notebooks\"->azureml-sdk[automl,explain,notebooks]) (0.5.2)\n",
      "Requirement already satisfied, skipping upgrade: webencodings in /anaconda/envs/azureml_py36/lib/python3.6/site-packages (from html5lib>=0.99999999->bleach->nbconvert>=5.5->papermill->azureml-contrib-notebook==1.0.65.*; extra == \"notebooks\"->azureml-sdk[automl,explain,notebooks]) (0.5.1)\n",
      "Installing collected packages: wheel\n",
      "  Found existing installation: wheel 0.29.0\n",
      "    Uninstalling wheel-0.29.0:\n",
      "      Successfully uninstalled wheel-0.29.0\n",
      "Successfully installed wheel-0.30.0\n",
      "Ready to use Azure ML 1.0.65\n"
     ]
    }
   ],
   "source": [
    "!pip install --upgrade azureml-sdk[notebooks,automl,explain]\n",
    "\n",
    "import azureml.core\n",
    "print(\"Ready to use Azure ML\", azureml.core.VERSION)"
   ]
  },
  {
   "cell_type": "markdown",
   "metadata": {},
   "source": [
    "Now you're ready to connect to your workspace. When you created it in the previous exercise, you saved its configuration; so now you can simply load the workspace from its configuration file.\n",
    "\n",
    "> **Note**: If the authenticated session with your Azure subscription has expired since you completed the previous exercise, you'll be prompted to reauthenticate."
   ]
  },
  {
   "cell_type": "code",
   "execution_count": 2,
   "metadata": {},
   "outputs": [
    {
     "name": "stdout",
     "output_type": "stream",
     "text": [
      "Ready to work with aml-workspace\n"
     ]
    }
   ],
   "source": [
    "from azureml.core import Workspace\n",
    "\n",
    "# Load the workspace from the saved config file\n",
    "ws = Workspace.from_config()\n",
    "print('Ready to work with', ws.name)"
   ]
  },
  {
   "cell_type": "markdown",
   "metadata": {},
   "source": [
    "Now let's get the Azure ML compute resource you created previously (or recreate it if you deleted it!)"
   ]
  },
  {
   "cell_type": "code",
   "execution_count": 3,
   "metadata": {},
   "outputs": [
    {
     "name": "stdout",
     "output_type": "stream",
     "text": [
      "Found existing cluster, use it.\n",
      "Succeeded\n",
      "AmlCompute wait for completion finished\n",
      "Minimum number of nodes requested have been provisioned\n"
     ]
    }
   ],
   "source": [
    "from azureml.core.compute import ComputeTarget, AmlCompute\n",
    "from azureml.core.compute_target import ComputeTargetException\n",
    "\n",
    "# Choose a name for your CPU cluster\n",
    "cpu_cluster_name = \"cpu-cluster\"\n",
    "\n",
    "# Verify that cluster does not exist already\n",
    "try:\n",
    "    cpu_cluster = ComputeTarget(workspace=ws, name=cpu_cluster_name)\n",
    "    print('Found existing cluster, use it.')\n",
    "except ComputeTargetException:\n",
    "    # Create an AzureMl Compute resource (a container cluster)\n",
    "    compute_config = AmlCompute.provisioning_configuration(vm_size='STANDARD_D2_V2', \n",
    "                                                           vm_priority='lowpriority', \n",
    "                                                           max_nodes=4)\n",
    "    cpu_cluster = ComputeTarget.create(ws, cpu_cluster_name, compute_config)\n",
    "\n",
    "cpu_cluster.wait_for_completion(show_output=True)"
   ]
  },
  {
   "cell_type": "markdown",
   "metadata": {},
   "source": [
    "## Task 2: Use *Hyperdrive* to Determine Optimal Parameter Values\n",
    "\n",
    "The remote compute you created is a four-node cluster, and you can take advantage of this to execute multiple experiment runs in parallel. One key reason to do this is to try training a model with a range of different hyperparameter values.\n",
    "\n",
    "Azure ML includes a feature called *hyperdrive* that enables you to randomly try different values for one or more hyperparameters, and find the best performing trained model based on a metric that you specify - such as *Accuracy* or *Area Under the Curve (AUC)*.\n",
    "\n",
    "> **More Information**: For more information about Hyperdrive, see the [Azure ML documentation](https://docs.microsoft.com/en-us/azure/machine-learning/service/how-to-tune-hyperparameters).\n",
    "\n",
    "Let's run a Hyperdrive experiment on the remote compute you have provisioned. First, we'll create the experiment and its associated folder."
   ]
  },
  {
   "cell_type": "code",
   "execution_count": 4,
   "metadata": {},
   "outputs": [
    {
     "name": "stdout",
     "output_type": "stream",
     "text": [
      "Experiment: diabetes_training\n"
     ]
    }
   ],
   "source": [
    "import os\n",
    "from azureml.core import Experiment\n",
    "\n",
    "# Create an experiment\n",
    "experiment_name = 'diabetes_training'\n",
    "experiment = Experiment(workspace = ws, name = experiment_name)\n",
    "\n",
    "# Create a folder for the experiment files\n",
    "experiment_folder = './' + experiment_name\n",
    "os.makedirs(experiment_folder, exist_ok=True)\n",
    "\n",
    "print(\"Experiment:\", experiment.name)"
   ]
  },
  {
   "cell_type": "markdown",
   "metadata": {},
   "source": [
    "Now we'll create the Python script our experiment will run in order to train a model."
   ]
  },
  {
   "cell_type": "code",
   "execution_count": 5,
   "metadata": {},
   "outputs": [
    {
     "name": "stdout",
     "output_type": "stream",
     "text": [
      "Overwriting ./diabetes_training/diabetes_training.py\n"
     ]
    }
   ],
   "source": [
    "%%writefile $experiment_folder/diabetes_training.py\n",
    "# Import libraries\n",
    "import argparse\n",
    "import joblib\n",
    "from azureml.core import Workspace, Dataset, Experiment, Run\n",
    "import pandas as pd\n",
    "import numpy as np\n",
    "import matplotlib.pyplot as plt\n",
    "from sklearn.model_selection import train_test_split\n",
    "from sklearn.linear_model import LogisticRegression\n",
    "from sklearn.metrics import roc_auc_score\n",
    "from sklearn.metrics import roc_curve\n",
    "\n",
    "# Set regularization parameter\n",
    "parser = argparse.ArgumentParser()\n",
    "parser.add_argument('--regularization', type=float, dest='reg_rate', default=0.01, help='regularization rate')\n",
    "args = parser.parse_args()\n",
    "reg = args.reg_rate\n",
    "\n",
    "# Get the experiment run context\n",
    "run = Run.get_context()\n",
    "\n",
    "# load the diabetes dataset\n",
    "dataset_name = 'Diabetes Dataset'\n",
    "print(\"Loading data from \" + dataset_name)\n",
    "diabetes = Dataset.get_by_name(workspace=run.experiment.workspace, name=dataset_name).to_pandas_dataframe()\n",
    "\n",
    "# Separate features and labels\n",
    "X, y = diabetes[['Pregnancies','PlasmaGlucose','DiastolicBloodPressure','TricepsThickness','SerumInsulin','BMI','DiabetesPedigree','Age']].values, diabetes['Diabetic'].values\n",
    "\n",
    "# Split data into training set and test set\n",
    "X_train, X_test, y_train, y_test = train_test_split(X, y, test_size=0.30, random_state=0)\n",
    "\n",
    "# Train a logistic regression model\n",
    "print('Training a logistic regression model with regularization rate of', reg)\n",
    "run.log('Regularization Rate',  np.float(reg))\n",
    "model = LogisticRegression(C=1/reg, solver=\"liblinear\").fit(X_train, y_train)\n",
    "\n",
    "# calculate accuracy\n",
    "y_hat = model.predict(X_test)\n",
    "acc = np.average(y_hat == y_test)\n",
    "print('Accuracy:', acc)\n",
    "run.log('Accuracy', np.float(acc))\n",
    "\n",
    "# calculate AUC\n",
    "y_scores = model.predict_proba(X_test)\n",
    "auc = roc_auc_score(y_test,y_scores[:,1])\n",
    "print('AUC: ' + str(auc))\n",
    "run.log('AUC', np.float(auc))\n",
    "\n",
    "# plot ROC curve\n",
    "fpr, tpr, thresholds = roc_curve(y_test, y_scores[:,1])\n",
    "fig = plt.figure(figsize=(6, 4))\n",
    "# Plot the diagonal 50% line\n",
    "plt.plot([0, 1], [0, 1], 'k--')\n",
    "# Plot the FPR and TPR achieved by our model\n",
    "plt.plot(fpr, tpr)\n",
    "plt.xlabel('False Positive Rate')\n",
    "plt.ylabel('True Positive Rate')\n",
    "plt.title('ROC Curve')\n",
    "run.log_image(name = \"ROC\", plot = fig)\n",
    "plt.show()\n",
    "\n",
    "os.makedirs('outputs', exist_ok=True)\n",
    "# note file saved in the outputs folder is automatically uploaded into experiment record\n",
    "joblib.dump(value=model, filename='outputs/diabetes_model.pkl')\n",
    "\n",
    "run.complete()"
   ]
  },
  {
   "cell_type": "markdown",
   "metadata": {},
   "source": [
    "Now, we'll use the *Hyperdrive* feature of Azure ML to run multiple experiments in parallel, using different values for the **regularization** parameter to find the optimal value for our data."
   ]
  },
  {
   "cell_type": "code",
   "execution_count": 6,
   "metadata": {},
   "outputs": [
    {
     "data": {
      "application/vnd.jupyter.widget-view+json": {
       "model_id": "296bee74459e404394004a289084c121",
       "version_major": 2,
       "version_minor": 0
      },
      "text/plain": [
       "A Jupyter Widget"
      ]
     },
     "metadata": {},
     "output_type": "display_data"
    }
   ],
   "source": [
    "from azureml.train.hyperdrive import GridParameterSampling, BanditPolicy, HyperDriveConfig, PrimaryMetricGoal\n",
    "from azureml.train.hyperdrive import choice\n",
    "from azureml.widgets import RunDetails\n",
    "from azureml.train.sklearn import SKLearn\n",
    "\n",
    "# Sample a range of parameter values\n",
    "params = GridParameterSampling(\n",
    "    {\n",
    "        # There's only one parameter, so grid sampling will try each value - with multiple parameters it would try every combination\n",
    "        '--regularization': choice(0.001, 0.005, 0.01, 0.05, 0.1, 1.0)\n",
    "    }\n",
    ")\n",
    "\n",
    "# Set evaluation policy to stop poorly performing training runs early\n",
    "policy = BanditPolicy(evaluation_interval=2, slack_factor=0.1)\n",
    "\n",
    "# Create an estimator that uses the remote compute\n",
    "hyper_estimator = SKLearn(source_directory=experiment_folder,\n",
    "                           compute_target = cpu_cluster,\n",
    "                           conda_packages=['pandas','ipykernel','matplotlib'],\n",
    "                           pip_packages=['azureml-sdk','argparse','pyarrow'],\n",
    "                           entry_script='diabetes_training.py')\n",
    "\n",
    "# Configure hyperdrive settings\n",
    "hyperdrive = HyperDriveConfig(estimator=hyper_estimator, \n",
    "                          hyperparameter_sampling=params, \n",
    "                          policy=policy, \n",
    "                          primary_metric_name='AUC', \n",
    "                          primary_metric_goal=PrimaryMetricGoal.MAXIMIZE, \n",
    "                          max_total_runs=6,\n",
    "                          max_concurrent_runs=4)\n",
    "\n",
    "\n",
    "# Run the experiment\n",
    "run = experiment.submit(config=hyperdrive)\n",
    "\n",
    "# Show the status in the notebook as the experiment runs\n",
    "RunDetails(run).show()"
   ]
  },
  {
   "cell_type": "markdown",
   "metadata": {},
   "source": [
    "You can view the experiment run status in the widget above. You can also view the main Hyperdrive experiment run and its child runs in the [Azure ML web interface](https://ml.azure.com).\n",
    "\n",
    "When all of the runs have finished, you can find the best one based on the performance metric you specified (in this case, the one with the best AUC)."
   ]
  },
  {
   "cell_type": "code",
   "execution_count": 7,
   "metadata": {},
   "outputs": [
    {
     "name": "stdout",
     "output_type": "stream",
     "text": [
      "Best Run Id:  diabetes_training_1570665651906458_5\n",
      " -AUC: 0.856969468262725\n",
      " -Accuracy: 0.7891111111111111\n",
      " -Regularization Rate: ['--regularization', '1']\n"
     ]
    }
   ],
   "source": [
    "best_run = run.get_best_run_by_primary_metric()\n",
    "best_run_metrics = best_run.get_metrics()\n",
    "parameter_values = best_run.get_details() ['runDefinition']['arguments']\n",
    "\n",
    "print('Best Run Id: ', best_run.id)\n",
    "print(' -AUC:', best_run_metrics['AUC'])\n",
    "print(' -Accuracy:', best_run_metrics['Accuracy'])\n",
    "print(' -Regularization Rate:',parameter_values)"
   ]
  },
  {
   "cell_type": "markdown",
   "metadata": {},
   "source": [
    "Since we've found the best run, we can register the model it trained."
   ]
  },
  {
   "cell_type": "code",
   "execution_count": 8,
   "metadata": {},
   "outputs": [
    {
     "name": "stdout",
     "output_type": "stream",
     "text": [
      "diabetes_model version: 10\n",
      "\t Training context : Hyperdrive\n",
      "\t AUC : 0.856969468262725\n",
      "\t Accuracy : 0.7891111111111111\n",
      "\n",
      "\n",
      "diabetes_model version: 9\n",
      "\t Training context : SKL-Estimator\n",
      "\t AUC : 0.8568632924585982\n",
      "\t Accuracy : 0.7893333333333333\n",
      "\n",
      "\n",
      "diabetes_model version: 8\n",
      "\t Training context : Azure ML compute\n",
      "\t AUC : 0.8568646196561496\n",
      "\t Accuracy : 0.7893333333333333\n",
      "\n",
      "\n",
      "diabetes_model version: 7\n",
      "\t Training context : Estimator (from Datasource)\n",
      "\t AUC : 0.8568579836683917\n",
      "\t Accuracy : 0.7891111111111111\n",
      "\n",
      "\n",
      "diabetes_model version: 6\n",
      "\t Training context : Estimator\n",
      "\t AUC : 0.8568646196561496\n",
      "\t Accuracy : 0.7893333333333333\n",
      "\n",
      "\n",
      "diabetes_model version: 5\n",
      "\t Training context : Experiment script\n",
      "\t AUC : 0.8568593108659435\n",
      "\t Accuracy : 0.7891111111111111\n",
      "\n",
      "\n",
      "diabetes_model version: 4\n",
      "\t Training context : Estimator\n",
      "\t AUC : 0.8568646196561496\n",
      "\t Accuracy : 0.7893333333333333\n",
      "\n",
      "\n",
      "diabetes_model version: 3\n",
      "\t Training context : Experiment script\n",
      "\t AUC : 0.8568593108659435\n",
      "\t Accuracy : 0.7891111111111111\n",
      "\n",
      "\n"
     ]
    }
   ],
   "source": [
    "from azureml.core import Model\n",
    "\n",
    "# Register model\n",
    "best_run.register_model(model_path='outputs/diabetes_model.pkl', model_name='diabetes_model', tags={'Training context':'Hyperdrive'}, properties={'AUC': best_run_metrics['AUC'], 'Accuracy': best_run_metrics['Accuracy']})\n",
    "\n",
    "# List registered models\n",
    "for model in Model.list(ws):\n",
    "    print(model.name, 'version:', model.version)\n",
    "    for tag_name in model.tags:\n",
    "        tag = model.tags[tag_name]\n",
    "        print ('\\t',tag_name, ':', tag)\n",
    "    for prop_name in model.properties:\n",
    "        prop = model.properties[prop_name]\n",
    "        print ('\\t',prop_name, ':', prop)\n",
    "    print('\\n')"
   ]
  },
  {
   "cell_type": "markdown",
   "metadata": {},
   "source": [
    "## Task 3: Use *Auto ML* to Find the Best Model\n",
    "\n",
    "Hyperparameter tuning has helped us find the optimal regularization rate for our logistic regression model, but we might get better results by trying a different algorithm, and by performing some basic feature-engineering, such as scaling numeric feature values. You could just create lots of different training scripts that apply various scikit-learn algorithms, and try them all until you find the best result; but Azure ML provides a feature called *Automated Machine Learning* (or *Auto ML*) that can do this for you.\n",
    "\n",
    "First, let's create a folder for a new experiment."
   ]
  },
  {
   "cell_type": "code",
   "execution_count": 9,
   "metadata": {},
   "outputs": [
    {
     "name": "stdout",
     "output_type": "stream",
     "text": [
      "automl_experiment folder created\n"
     ]
    }
   ],
   "source": [
    "# Create a project folder if it doesn't exist\n",
    "automl_folder = \"automl_experiment\"\n",
    "if not os.path.exists(automl_folder):\n",
    "    os.makedirs(automl_folder)\n",
    "print(automl_folder, 'folder created')"
   ]
  },
  {
   "cell_type": "markdown",
   "metadata": {},
   "source": [
    "You don't need to create a training script (Auto ML will do that for you), but you do need to load the training data; and when using remote compute, this is best achieved by creating a script containing a **get_data** function."
   ]
  },
  {
   "cell_type": "code",
   "execution_count": 14,
   "metadata": {},
   "outputs": [
    {
     "name": "stdout",
     "output_type": "stream",
     "text": [
      "Overwriting automl_experiment/get_data.py\n"
     ]
    }
   ],
   "source": [
    "%%writefile $automl_folder/get_data.py\n",
    "#Write the get_data file.\n",
    "from azureml.core import Run, Workspace, Dataset\n",
    "from sklearn.model_selection import train_test_split\n",
    "import pandas as pd\n",
    "import numpy as np\n",
    "\n",
    "def get_data():\n",
    "\n",
    "    # load the diabetes dataset\n",
    "    run = Run.get_context()\n",
    "    dataset_name = 'Diabetes Dataset'\n",
    "    diabetes = Dataset.get_by_name(workspace=run.experiment.workspace, name=dataset_name).to_pandas_dataframe()\n",
    "\n",
    "    # Separate features and labels\n",
    "    X, y = diabetes[['Pregnancies','PlasmaGlucose','DiastolicBloodPressure','TricepsThickness','SerumInsulin','BMI','DiabetesPedigree','Age']].values, diabetes['Diabetic'].values\n",
    "    \n",
    "    # Split data into training set and test set\n",
    "    X_train, X_test, y_train, y_test = train_test_split(X, y, test_size=0.30, random_state=0)\n",
    "\n",
    "    return { \"X\" : X_train, \"y\" : y_train, \"X_valid\" : X_test, \"y_valid\" : y_test }"
   ]
  },
  {
   "cell_type": "markdown",
   "metadata": {},
   "source": [
    "Now you're ready to configure the Auto ML experiment. To do this, you'll need a run configuration that includes the required packages for the experiment environment, and a set of configuration settings that tells Auto ML how many options to try, which metric to use when evaluating models, and so on.\n",
    "\n",
    "> **More Information**: For more information about options when using Auto ML, see the [Azure ML documentation](https://docs.microsoft.com/en-us/azure/machine-learning/service/how-to-configure-auto-train)."
   ]
  },
  {
   "cell_type": "code",
   "execution_count": 15,
   "metadata": {},
   "outputs": [],
   "source": [
    "from azureml.core.runconfig import RunConfiguration\n",
    "from azureml.core.conda_dependencies import CondaDependencies\n",
    "from azureml.train.automl import AutoMLConfig\n",
    "import time\n",
    "import logging\n",
    "\n",
    "\n",
    "automl_run_config = RunConfiguration(framework=\"python\")\n",
    "automl_run_config.environment.docker.enabled = True\n",
    "\n",
    "auto_ml_dependencies = CondaDependencies.create(\n",
    "    pip_packages=[\"azureml-sdk\", \"pyarrow\", \"pandas\", \"scikit-learn\", \"numpy\"])\n",
    "automl_run_config.environment.python.conda_dependencies = auto_ml_dependencies\n",
    "\n",
    "\n",
    "automl_settings = {\n",
    "    \"name\": \"Diabetes_AutoML_{0}\".format(time.time()),\n",
    "    \"iteration_timeout_minutes\": 10,\n",
    "    \"iterations\": 10,\n",
    "    \"primary_metric\": 'AUC_weighted',\n",
    "    \"preprocess\": False,\n",
    "    \"max_concurrent_iterations\": 4,\n",
    "    \"verbosity\": logging.INFO\n",
    "}\n",
    "\n",
    "automl_config = AutoMLConfig(task='classification',\n",
    "                             debug_log='automl_errors.log',\n",
    "                             path=automl_folder,\n",
    "                             compute_target=cpu_cluster,\n",
    "                             run_configuration=automl_run_config,\n",
    "                             data_script=automl_folder + \"/get_data.py\",\n",
    "                             model_explainability=True,\n",
    "                             **automl_settings,\n",
    "                             )"
   ]
  },
  {
   "cell_type": "markdown",
   "metadata": {},
   "source": [
    "OK, we're ready to go. Let's start the Auto ML run, which will generate child runs for different algorithms.\n",
    "\n",
    "> **Note**: This will take a significant amount of time. Initially, the compute cluster will need to be prepared, which may require stopping any cluster nodes that are still running from the previous experiment. After this has been done, the AutoML experiment can start and progress will be displayed as each child run completes. Eventually, a widget showing the results will be displayed. You can monitor the compute and experiment status in the [Azure ML web interface](https://ml.azure.com)."
   ]
  },
  {
   "cell_type": "code",
   "execution_count": null,
   "metadata": {},
   "outputs": [
    {
     "name": "stdout",
     "output_type": "stream",
     "text": [
      "Running on remote compute: cpu-cluster\n",
      "Parent Run ID: AutoML_98f6084e-2008-499f-81d8-358dfa562544\n"
     ]
    }
   ],
   "source": [
    "from azureml.core.experiment import Experiment\n",
    "from azureml.widgets import RunDetails\n",
    "\n",
    "automl_experiment = Experiment(ws, 'diabetes_automl')\n",
    "automl_run = automl_experiment.submit(automl_config, show_output=True)\n",
    "RunDetails(automl_run).show()"
   ]
  },
  {
   "cell_type": "markdown",
   "metadata": {},
   "source": [
    "You can view the experiment run status in the widget. You can also view the AutoML experiment run and its child runs in the [Azure ML web interface](https://ml.azure.com).\n",
    "\n",
    "View the output of the experiment in the widget, and click the run that produced the best result to see its details.\n",
    "Then click the link to view the experiment details in the Azure portal and view the overall experiment details before viewing the details for the individual run that produced the best result. There's lots of information here about the performance of the model generated and how its features were used.\n",
    "\n",
    "Let's get the best run and the model that was generated (you can ignore any warnings about Azure ML package versions that might appear)."
   ]
  },
  {
   "cell_type": "code",
   "execution_count": null,
   "metadata": {},
   "outputs": [],
   "source": [
    "best_run, fitted_model = automl_run.get_output()\n",
    "print(best_run)\n",
    "print(fitted_model)\n",
    "best_run_metrics = best_run.get_metrics()\n",
    "for metric_name in best_run_metrics:\n",
    "    metric = best_run_metrics[metric_name]\n",
    "    print(metric_name, metric)"
   ]
  },
  {
   "cell_type": "markdown",
   "metadata": {},
   "source": [
    "One of the options you used was to include model *explainability*. This uses a test dataset to evaluate the importance of each feature. You can view this data in the notebook widget or the portal, and you can also retrieve it from the run."
   ]
  },
  {
   "cell_type": "code",
   "execution_count": null,
   "metadata": {},
   "outputs": [],
   "source": [
    "from azureml.train.automl.automlexplainer import retrieve_model_explanation\n",
    "\n",
    "shap_values, expected_values, overall_summary, overall_imp, per_class_summary, per_class_imp = retrieve_model_explanation(best_run)\n",
    "\n",
    "# Overall feature importance (the Feature value is the column index in the training data)\n",
    "print(\"Feature\\tImportance\")\n",
    "for i in range(len(overall_imp)):\n",
    "    print(overall_imp[i], '\\t', overall_summary[i])\n"
   ]
  },
  {
   "cell_type": "markdown",
   "metadata": {},
   "source": [
    "Finally, having found the best performing model, you can register it."
   ]
  },
  {
   "cell_type": "code",
   "execution_count": null,
   "metadata": {},
   "outputs": [],
   "source": [
    "# Register model\n",
    "best_run.register_model(model_path='outputs/model.pkl', model_name='diabetes_model', tags={'Training context':'Auto ML'}, properties={'AUC': best_run_metrics['AUC_weighted'], 'Accuracy': best_run_metrics['accuracy']})\n",
    "\n",
    "# List registered models\n",
    "for model in Model.list(ws):\n",
    "    print(model.name, 'version:', model.version)\n",
    "    for tag_name in model.tags:\n",
    "        tag = model.tags[tag_name]\n",
    "        print ('\\t',tag_name, ':', tag)\n",
    "    for prop_name in model.properties:\n",
    "        prop = model.properties[prop_name]\n",
    "        print ('\\t',prop_name, ':', prop)\n",
    "    print('\\n')"
   ]
  },
  {
   "cell_type": "markdown",
   "metadata": {},
   "source": [
    "Now you've seen several ways to leverage the high-scale compute capabilities of the cloud to experiment with model training and find the best performing model for your data. In the next exerise, you'll deploy a registered model into production."
   ]
  }
 ],
 "metadata": {
  "kernelspec": {
   "display_name": "Python 3.6 - AzureML",
   "language": "python",
   "name": "python3-azureml"
  },
  "language_info": {
   "codemirror_mode": {
    "name": "ipython",
    "version": 3
   },
   "file_extension": ".py",
   "mimetype": "text/x-python",
   "name": "python",
   "nbconvert_exporter": "python",
   "pygments_lexer": "ipython3",
   "version": "3.6.2"
  }
 },
 "nbformat": 4,
 "nbformat_minor": 2
}
