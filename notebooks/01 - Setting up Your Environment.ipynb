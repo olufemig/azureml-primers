{
 "cells": [
  {
   "cell_type": "markdown",
   "metadata": {},
   "source": [
    "# Exercise 1: Setting up Your Environment\n",
    "\n",
    "Azure Machine Learning (*Azure ML*) is a cloud-based service for creating and managing machine learning solutions. It's designed to help data scientists leverage their existing data processing and model development skills and frameworks, and help them scale their workloads to the cloud.\n",
    "\n",
    "## Task 1: Install the Azure ML SDK for Python\n",
    "\n",
    "The Azure ML SDK for Python provides classes you can use to work with Azure ML in your Azure subscription. The SDK is pre-installed in the Azure ML notebooks environment, but it's worth checking that you have the latest version of the package installed. Run the cell below to install the **azureml-sdk** Python package, including the optional *notebooks* component; which provides some functionality specific to the Jupyter Notebooks environment.\n",
    "\n",
    "> **More Information**: For more details about installing the Azure ML SDK and its optional components, see the [Azure ML SDK Documentation](https://docs.microsoft.com/en-us/python/api/overview/azure/ml/install?view=azure-ml-py)"
   ]
  },
  {
   "cell_type": "code",
   "execution_count": null,
   "metadata": {},
   "outputs": [],
   "source": [
    "!pip install --upgrade azureml-sdk[notebooks]\n",
    "\n",
    "import azureml.core\n",
    "print(\"Ready to use Azure ML\", azureml.core.VERSION)"
   ]
  },
  {
   "cell_type": "markdown",
   "metadata": {},
   "source": [
    "## Task 2: Sign Into your Azure Subscription\n",
    "\n",
    "Now that you've installed the SDK, you can use it to create, manage, and use Azure ML related objects in your Azure subscription, which means you'll need an authenticated connection between the code in this notebook and your Azure subscription. To create this authenticated connection, you can use the **authentication** module in the Azure ML SDK. In this case, you'll use the **InteractiveLoginAuthentication** class to generate a session token.\n",
    "\n",
    "Run the cell below, and when prompted, click the https://microsoft.com/devicelogin link and enter the automatically generated code. Then, sign into your Azure subscription in the browser tab that is opened. After you have successfully signed in, you can close the browser tab that was opened and return to this notebook."
   ]
  },
  {
   "cell_type": "code",
   "execution_count": null,
   "metadata": {},
   "outputs": [],
   "source": [
    "from azureml.core import authentication\n",
    "\n",
    "auth = authentication.InteractiveLoginAuthentication()\n",
    "print('Signed in')"
   ]
  },
  {
   "cell_type": "markdown",
   "metadata": {},
   "source": [
    "## Task 3: Connect to a Workspace\n",
    "\n",
    "All experiments and associated resources are managed within an Azure ML *workspace*. You can connect to an existing workspace, or create a new one using the Azure ML SDK.\n",
    "\n",
    "In the code below, enter appropriate values for the *SUBSCRIPTION_ID*, *RESOURCE_GROUP*, *WORKSPACE_NAME*, and *REGION* constants for your workspace (if you have already created a workspace, you can find all of these details on its **Overview** page in the [Azure portal](https://portal.azure.com)). Then run the cell to create your workspace.\n",
    "\n",
    "> **Note**: If you hadn't previously created an authenticated session, you'd automatically be prompted to sign into your Azure subscription!"
   ]
  },
  {
   "cell_type": "code",
   "execution_count": null,
   "metadata": {},
   "outputs": [],
   "source": [
    "from azureml.core import Workspace\n",
    "\n",
    "SUBSCRIPTION_ID = '<YOUR_AZURE_SUBSCRIPTION_ID>' # Get this from the Azure portal\n",
    "RESOURCE_GROUP_NAME  = 'aml-resource-group' # Or any resource group name of your choice - if it doesn't exist, it will be created\n",
    "WORKSPACE_NAME  = 'aml-workspace' # Or a name of your choice - if it doesn't exist, it will be created\n",
    "REGION = 'eastus2'# Or a region of your choice\n",
    "\n",
    "ws = None\n",
    "try:\n",
    "    # Find existing workspace\n",
    "    ws = Workspace(workspace_name=WORKSPACE_NAME,\n",
    "                   subscription_id=SUBSCRIPTION_ID,\n",
    "                   resource_group= RESOURCE_GROUP_NAME)\n",
    "    print (ws.name, \"found.\")\n",
    "except Exception as ex:\n",
    "    # If workspace not found, create it\n",
    "    print(ex.message)\n",
    "    print(\"Attempting to create new workspace...\")\n",
    "    ws = Workspace.create(name=WORKSPACE_NAME, \n",
    "                      subscription_id=SUBSCRIPTION_ID,\n",
    "                      resource_group=RESOURCE_GROUP_NAME,\n",
    "                      create_resource_group=True,\n",
    "                      location=REGION \n",
    "                     )\n",
    "    print(ws.name, \"created.\")\n",
    "finally:\n",
    "    # Save the workspace configuration for later\n",
    "    if ws != None:\n",
    "        ws.write_config()\n",
    "        print(ws.name, \"saved.\")"
   ]
  },
  {
   "cell_type": "markdown",
   "metadata": {},
   "source": [
    "In the [Azure ML Web Interface](https://ml.azure.com), note that you can manage various Azure ML assets, such as *experiments*, *pipelines*, *compute*, *models*, and others. You will explore these kinds of asset in subsequent exercises.\n",
    "\n",
    "In the code above, note that you used the **write_config** method to save the workspace configuration. This saved a JSON configuration file in a hidden folder named **.azureml**, which you can verify with the following cell."
   ]
  },
  {
   "cell_type": "code",
   "execution_count": null,
   "metadata": {},
   "outputs": [],
   "source": [
    "import json\n",
    "# Print the config.json file\n",
    "with open(\"./.azureml/config.json\",\"r\") as f:\n",
    "    json_data = json.loads(f.read())\n",
    "    print(json.dumps(json_data, indent=2))"
   ]
  },
  {
   "cell_type": "markdown",
   "metadata": {},
   "source": [
    "This saved configuration file enables you to easily obtain a reference to the workspace by simply loading it, as demonstrated in the following cell. Note that this method will prompt you to reauthenticate against your Azure subscription if your session has expired."
   ]
  },
  {
   "cell_type": "code",
   "execution_count": null,
   "metadata": {},
   "outputs": [],
   "source": [
    "from azureml.core import Workspace\n",
    "\n",
    "ws = Workspace.from_config()\n",
    "print(ws.name, \"loaded\")"
   ]
  },
  {
   "cell_type": "markdown",
   "metadata": {},
   "source": [
    "Now you've set up your environment, and created a configuration file in the folder for this lab. In subsequent exercises, you'll be able to use this configuration file to reconnect to the workspace."
   ]
  }
 ],
 "metadata": {
  "kernelspec": {
   "display_name": "Python 3.6 - AzureML",
   "language": "python",
   "name": "python3-azureml"
  },
  "language_info": {
   "codemirror_mode": {
    "name": "ipython",
    "version": 3
   },
   "file_extension": ".py",
   "mimetype": "text/x-python",
   "name": "python",
   "nbconvert_exporter": "python",
   "pygments_lexer": "ipython3",
   "version": "3.6.2"
  }
 },
 "nbformat": 4,
 "nbformat_minor": 2
}
